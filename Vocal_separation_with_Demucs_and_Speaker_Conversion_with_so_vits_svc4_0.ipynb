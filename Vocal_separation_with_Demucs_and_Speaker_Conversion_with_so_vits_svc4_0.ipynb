{
  "cells": [
    {
      "cell_type": "markdown",
      "metadata": {
        "id": "view-in-github",
        "colab_type": "text"
      },
      "source": [
        "<a href=\"https://colab.research.google.com/github/hellwalker3/Vocal_separation_with_Demucs_and_Speaker_Conversion_with_so-vits-svc4.0/blob/main/Vocal_separation_with_Demucs_and_Speaker_Conversion_with_so_vits_svc4_0.ipynb\" target=\"_parent\"><img src=\"https://colab.research.google.com/assets/colab-badge.svg\" alt=\"Open In Colab\"/></a>"
      ]
    },
    {
      "cell_type": "code",
      "execution_count": null,
      "metadata": {
        "id": "wmUkpUmfn_Hs"
      },
      "outputs": [],
      "source": [
        "#@title Mount google drive and select which directories to sync with google drive\n",
        "\n",
        "from google.colab import drive\n",
        "drive.mount(\"/content/drive\")\n"
      ]
    },
    {
      "cell_type": "code",
      "execution_count": null,
      "metadata": {
        "id": "t2MZakKmS2CI"
      },
      "outputs": [],
      "source": [
        "#@title install demucs code\n",
        "!python3 -m pip install -U git+https://github.com/facebookresearch/demucs#egg=demucs"
      ]
    },
    {
      "cell_type": "code",
      "execution_count": null,
      "metadata": {
        "id": "mV7CLFjvS2FK"
      },
      "outputs": [],
      "source": [
        "#@title Settings of demucs\n",
        "model = \"htdemucs\"\n",
        "extensions = [\"mp3\", \"wav\", \"ogg\", \"flac\"]  # we will look for all those file types.\n",
        "two_stems = None   # only separate one stems from the rest, for instance\n",
        "# two_stems = \"vocals\"\n",
        "\n",
        "# Options for the output audio.\n",
        "mp3 = True\n",
        "mp3_rate = 320\n",
        "float32 = False  # output as float 32 wavs, unsused if 'mp3' is True.\n",
        "int24 = False    # output as int24 wavs, unused if 'mp3' is True.\n",
        "# You cannot set both `float32 = True` and `int24 = True` !!"
      ]
    },
    {
      "cell_type": "code",
      "execution_count": null,
      "metadata": {
        "id": "oIFtt3X9UJWr"
      },
      "outputs": [],
      "source": [
        "#@title Useful functions of demucs, don't forget to execute\n",
        "import io\n",
        "from pathlib import Path\n",
        "import select\n",
        "from shutil import rmtree\n",
        "import subprocess as sp\n",
        "import sys\n",
        "from typing import Dict, Tuple, Optional, IO\n",
        "\n",
        "def find_files(in_path):\n",
        "    out = []\n",
        "    for file in Path(in_path).iterdir():\n",
        "        if file.suffix.lower().lstrip(\".\") in extensions:\n",
        "            out.append(file)\n",
        "    return out\n",
        "\n",
        "def copy_process_streams(process: sp.Popen):\n",
        "    def raw(stream: Optional[IO[bytes]]) -> IO[bytes]:\n",
        "        assert stream is not None\n",
        "        if isinstance(stream, io.BufferedIOBase):\n",
        "            stream = stream.raw\n",
        "        return stream\n",
        "\n",
        "    p_stdout, p_stderr = raw(process.stdout), raw(process.stderr)\n",
        "    stream_by_fd: Dict[int, Tuple[IO[bytes], io.StringIO, IO[str]]] = {\n",
        "        p_stdout.fileno(): (p_stdout, sys.stdout),\n",
        "        p_stderr.fileno(): (p_stderr, sys.stderr),\n",
        "    }\n",
        "    fds = list(stream_by_fd.keys())\n",
        "\n",
        "    while fds:\n",
        "        # `select` syscall will wait until one of the file descriptors has content.\n",
        "        ready, _, _ = select.select(fds, [], [])\n",
        "        for fd in ready:\n",
        "            p_stream, std = stream_by_fd[fd]\n",
        "            raw_buf = p_stream.read(2 ** 16)\n",
        "            if not raw_buf:\n",
        "                fds.remove(fd)\n",
        "                continue\n",
        "            buf = raw_buf.decode()\n",
        "            std.write(buf)\n",
        "            std.flush()\n",
        "\n",
        "def separate(inp=None, outp=None):\n",
        "    inp = inp or in_path\n",
        "    outp = outp or out_path\n",
        "    cmd = [\"python3\", \"-m\", \"demucs.separate\", \"-o\", str(outp), \"-n\", model]\n",
        "    if mp3:\n",
        "        cmd += [\"--mp3\", f\"--mp3-bitrate={mp3_rate}\"]\n",
        "    if float32:\n",
        "        cmd += [\"--float32\"]\n",
        "    if int24:\n",
        "        cmd += [\"--int24\"]\n",
        "    if two_stems is not None:\n",
        "        cmd += [f\"--two-stems={two_stems}\"]\n",
        "    files = [str(f) for f in find_files(inp)]\n",
        "    if not files:\n",
        "        print(f\"No valid audio files in {in_path}\")\n",
        "        return\n",
        "    print(\"Going to separate the files:\")\n",
        "    print('\\n'.join(files))\n",
        "    print(\"With command: \", \" \".join(cmd))\n",
        "    p = sp.Popen(cmd + files, stdout=sp.PIPE, stderr=sp.PIPE)\n",
        "    copy_process_streams(p)\n",
        "    p.wait()\n",
        "    if p.returncode != 0:\n",
        "        print(\"Command failed, something went wrong.\")\n",
        "\n"
      ]
    },
    {
      "cell_type": "code",
      "execution_count": null,
      "metadata": {
        "id": "0YUGpYrXhMck"
      },
      "outputs": [],
      "source": [
        "#@title Install so-vits-svc-fork and its dependencies\n",
        "#@markdown pip may fail to resolve dependencies and raise ERROR, but it can be ignored.\n",
        "!python -m pip install -U pip wheel\n",
        "\n",
        "%pip install -U ipython \n",
        "\n",
        "#@markdown Branch (for development)\n",
        "BRANCH = \"none\" #@param {\"type\": \"string\"}\n",
        "if BRANCH == \"none\":\n",
        "    %pip install -U so-vits-svc-fork\n",
        "\n",
        "!pip install pydub\n",
        "!pip install yt-dlp"
      ]
    },
    {
      "cell_type": "code",
      "execution_count": null,
      "metadata": {
        "id": "acyXU4N-7Vi5"
      },
      "outputs": [],
      "source": [
        "#@title Utility function to download music\n",
        "from yt_dlp import YoutubeDL\n",
        "\n",
        "def download_audio(url, save_path, audio_format=\"mp3\"):\n",
        "    ydl_opts = {\n",
        "        \"format\": \"bestaudio/best\",\n",
        "        \"outtmpl\": save_path,\n",
        "        \"postprocessors\": [{\"key\": \"FFmpegExtractAudio\", \"preferredcodec\": audio_format}],\n",
        "    }\n",
        "\n",
        "    with YoutubeDL(ydl_opts) as ydl:\n",
        "        ydl.download([url])"
      ]
    },
    {
      "cell_type": "code",
      "execution_count": null,
      "metadata": {
        "id": "1JdkkQDrMBHp"
      },
      "outputs": [],
      "source": [
        "#@title Required configuration Settings for Model, Song, and YouTube URL\n",
        "# Set the model folder name and folder path\n",
        "# The folder must include exclusively the G_*.pth file and the config.json file.\n",
        "model_folder_name = \"\"\n",
        "model_folder_path = f\"/content/drive/MyDrive/{model_folder_name}\"\n",
        "\n",
        "# Set the song title and folder path\n",
        "# The folder should contain the music content\n",
        "# If this is the first time using this song, it will be downloaded from the provided youtube_url and separated\n",
        "song_title = \"\"\n",
        "song_folder_path = f\"/content/drive/MyDrive/{song_title}\"\n",
        "\n",
        "# Set the YouTube URL for the song to be downloaded\n",
        "youtube_url = \"\"\n",
        "\n"
      ]
    },
    {
      "cell_type": "code",
      "execution_count": null,
      "metadata": {
        "id": "dYnKuKTIj3z1"
      },
      "outputs": [],
      "source": [
        "#@title Demucs Vocal Separation, Conversion with SO-VITS-SVC 4.0, and Music Integration to Generate /content/output_vocals.mp3 (only vocals) and /content/output_music.mp3 (with bgm)\n",
        "import os, glob, shutil\n",
        "from pydub import AudioSegment\n",
        "from IPython.display import Audio, display\n",
        "\n",
        "def create_directories():\n",
        "    os.makedirs(song_folder_path, exist_ok=True)\n",
        "    os.makedirs(os.path.join(song_folder_path, \"full\"), exist_ok=True)\n",
        "\n",
        "def download_audio_if_needed():\n",
        "    save_path = os.path.join(song_folder_path, \"full/music\")\n",
        "    if not os.path.exists(save_path + \".mp3\"):\n",
        "        download_audio(youtube_url, save_path)\n",
        "\n",
        "def separate_audio():\n",
        "    music_path = os.path.join(song_folder_path, \"full\")\n",
        "    if not os.path.exists(music_path + \"_sep\"):\n",
        "        separate(music_path, music_path + \"_sep\")\n",
        "\n",
        "def get_source_path():\n",
        "    music_path = os.path.join(song_folder_path, \"full\")\n",
        "    for file in glob.glob(f\"{os.path.join(music_path + '_sep', 'htdemucs/music')}/**\"):\n",
        "        if file[-10:] == \"vocals.mp3\":\n",
        "            return file\n",
        "    return None\n",
        "\n",
        "def copy_config_and_model_files():\n",
        "    config_suffix = \".json\"\n",
        "    config_file = None\n",
        "    for file_name in os.listdir(model_folder_path):\n",
        "        if file_name.endswith(config_suffix):\n",
        "            config_file = file_name\n",
        "            shutil.copy(os.path.join(model_folder_path, file_name), file_name)\n",
        "            break\n",
        "    if config_file is None:\n",
        "        raise ValueError(\"Config file not found in the folder.\")\n",
        "\n",
        "    model_suffix = \".pth\"\n",
        "    target_model_file = None\n",
        "    for file_name in os.listdir(model_folder_path):\n",
        "        if file_name.endswith(model_suffix):\n",
        "            target_model_file = file_name\n",
        "            shutil.copy(os.path.join(model_folder_path, file_name), file_name)\n",
        "            break\n",
        "    if target_model_file is None:\n",
        "        raise ValueError(\"Model file not found in the folder.\")\n",
        "    return config_file, target_model_file\n",
        "\n",
        "def infer_svc(source_path, target_model_file, config_file):\n",
        "    # need to improve\n",
        "    !svc infer {source_path} -m  /content/{target_model_file} -c /content/{config_file} -fm crepe -na \n",
        "    !mv {source_path[:-4]+\".out.mp3\"} /content/output_vocals.mp3\n",
        "\n",
        "def get_full_music_list():\n",
        "    music_path = os.path.join(song_folder_path, \"full\")\n",
        "    return [file_path for file_path in glob.glob(os.path.join(music_path+'_sep', 'htdemucs/music', '**')) if file_path[-10:] != 'vocals.mp3'] + [\"/content/output_vocals.mp3\"]\n",
        "\n",
        "def mix_audio_segments(full_music_list):\n",
        "    audio_segments = [AudioSegment.from_file(audio_file, format='mp3').set_frame_rate(44100) for audio_file in full_music_list]\n",
        "    mixed = audio_segments[0]\n",
        "    for audio_segment in audio_segments[1:]:\n",
        "        mixed = mixed.overlay(audio_segment)\n",
        "    return mixed\n",
        "\n",
        "def export_and_display_audio(mixed):\n",
        "    integrated_audio_path = \"/content/output_music.mp3\"\n",
        "    mixed.export(integrated_audio_path, format='mp3')\n",
        "    display(Audio(integrated_audio_path, autoplay=True))\n",
        "\n",
        "create_directories()\n",
        "download_audio_if_needed()\n",
        "separate_audio()\n",
        "\n",
        "source_path = get_source_path()\n",
        "config_file, target_model_file = copy_config_and_model_files()\n",
        "infer_svc(source_path, target_model_file, config_file)\n",
        "\n",
        "full_music_list = get_full_music_list()\n",
        "mixed_audio = mix_audio_segments(full_music_list)\n",
        "export_and_display_audio(mixed_audio)"
      ]
    },
    {
      "cell_type": "code",
      "source": [
        "#@title If the audio quality is poor, you may want to consider adjusting the arguments for the 'svc infer' command based on the suggestions below.\n",
        "!svc infer -h"
      ],
      "metadata": {
        "id": "IGc0RrgkTaYB"
      },
      "execution_count": null,
      "outputs": []
    },
    {
      "cell_type": "code",
      "execution_count": null,
      "metadata": {
        "id": "xOdi6tm1qMLO"
      },
      "outputs": [],
      "source": [
        "#@title Download generated file\n",
        "from google.colab import files\n",
        "files.download(\"/content/output_music.mp3\")"
      ]
    }
  ],
  "metadata": {
    "accelerator": "GPU",
    "colab": {
      "provenance": [],
      "private_outputs": true,
      "include_colab_link": true
    },
    "gpuClass": "standard",
    "kernelspec": {
      "display_name": "Python 3",
      "name": "python3"
    },
    "language_info": {
      "name": "python"
    }
  },
  "nbformat": 4,
  "nbformat_minor": 0
}